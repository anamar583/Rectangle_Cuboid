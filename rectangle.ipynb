{
 "cells": [
  {
   "cell_type": "code",
   "execution_count": 1,
   "id": "5bad10b4",
   "metadata": {},
   "outputs": [
    {
     "name": "stdout",
     "output_type": "stream",
     "text": [
      "Point  [2. 2.] is inside of the rectangle.\n",
      "Rectangle diagonal length is: 7.0710678118654755\n"
     ]
    }
   ],
   "source": [
    "import numpy as np\n",
    "\n",
    "class Shape:\n",
    "    def __init__(self, points):\n",
    "        self.points = points\n",
    "        \n",
    "        # Calculate vectors \n",
    "        self.vectors = np.array([self.points[1] - self.points[0], \n",
    "                                 self.points[2] - self.points[1],\n",
    "                                 self.points[0] - self.points[2]])\n",
    "       \n",
    "    # Check if three given points can form a rectangle\n",
    "    def is_shape(self):\n",
    "        \n",
    "        # Perpendicularity condition of vectors\n",
    "        perpendicular_condition = False\n",
    "    \n",
    "        for i in range(len(self.vectors)):\n",
    "        \n",
    "            dot_product = np.dot(self.vectors[i], self.vectors[(i + 1) % len(self.vectors)])\n",
    "        \n",
    "            if dot_product == 0:\n",
    "                perpendicular_condition = True\n",
    "                break\n",
    "                \n",
    "        # Length condition\n",
    "        length_condition = any(np.linalg.norm(vector) != 0 for vector in self.vectors)\n",
    "        \n",
    "        return  perpendicular_condition and length_condition\n",
    "            \n",
    "    # Check if a point is inside the rectangle\n",
    "    def is_inside(self, point):\n",
    "        \n",
    "        min_x = min(self.points[:-1, 0]) # Minimum x coordinate\n",
    "        max_x = max(self.points[:-1, 0]) # Maximum x coordinate\n",
    "        min_y = min(self.points[:-1, 1]) # Minimum y coordinate\n",
    "        max_y = max(self.points[:-1, 1]) # Maximum y coordinate\n",
    "        \n",
    "        return min_x <= point[0] <= max_x and min_y <= point[1] <= max_y\n",
    "\n",
    "    # The length of the rectangle diagonal\n",
    "    def diagonal_length(self):\n",
    "        \n",
    "        # Set diagonal to the longest vector\n",
    "        diagonal = max(np.linalg.norm(vector) for vector in self.vectors)\n",
    "        \n",
    "        return diagonal\n",
    "              \n",
    "def main():\n",
    "    # Load points from file\n",
    "    points = np.loadtxt('points.txt', delimiter=',')\n",
    "\n",
    "    # Create Shape object\n",
    "    shape = Shape(points)\n",
    "    \n",
    "    if not shape.is_shape():\n",
    "        print(\"The points cannot form a rectangle.\")\n",
    "        return\n",
    "\n",
    "    # Assign value to variable x\n",
    "    x = np.array(points[3])\n",
    "\n",
    "    # Pass x to the is_inside function\n",
    "    if shape.is_inside(x):\n",
    "        print('Point ', x, 'is inside of the rectangle.')\n",
    "    else:\n",
    "        print('Point ', x, 'is not inside of the rectangle.')\n",
    "\n",
    "    print(\"Rectangle diagonal length is:\", shape.diagonal_length())\n",
    "    \n",
    "    \n",
    "if __name__ == \"__main__\":\n",
    "    main()\n"
   ]
  },
  {
   "cell_type": "code",
   "execution_count": null,
   "id": "3a4c1d51",
   "metadata": {},
   "outputs": [],
   "source": []
  },
  {
   "cell_type": "code",
   "execution_count": null,
   "id": "7a919582",
   "metadata": {},
   "outputs": [],
   "source": []
  }
 ],
 "metadata": {
  "kernelspec": {
   "display_name": "Python 3 (ipykernel)",
   "language": "python",
   "name": "python3"
  },
  "language_info": {
   "codemirror_mode": {
    "name": "ipython",
    "version": 3
   },
   "file_extension": ".py",
   "mimetype": "text/x-python",
   "name": "python",
   "nbconvert_exporter": "python",
   "pygments_lexer": "ipython3",
   "version": "3.11.5"
  }
 },
 "nbformat": 4,
 "nbformat_minor": 5
}
